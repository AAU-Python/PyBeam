{
 "cells": [
  {
   "cell_type": "code",
   "execution_count": null,
   "metadata": {},
   "outputs": [],
   "source": [
    "from pybeam.datamodels import nodes_from_csv, elements_from_csv\n",
    "from pybeam.assembly import assemble_system_matrices, reindex_dof\n",
    "from pybeam.simulation import simulate\n",
    "from pybeam.modal_parameters import get_modal_parameters\n",
    "from pybeam._utilities import pprint_array\n",
    "from pybeam.plotting import plot_structure, plot_modeshape, set_style, plot_deformations\n",
    "from pybeam.fatigue import displacements_to_stresses\n",
    "\n",
    "%matplotlib qt5\n",
    "set_style()\n",
    "import numpy as np\n",
    "\n",
    "import logging\n",
    "\n",
    "logging.getLogger(\"pybeam\").setLevel(logging.INFO)"
   ]
  },
  {
   "cell_type": "markdown",
   "metadata": {},
   "source": [
    "### Initialize system matrices\n",
    "\n",
    "Assemble the system matrices.\n",
    "\n",
    "The damping matrix is defined by Rayleigh's damping model. Change coefficients as needed."
   ]
  },
  {
   "cell_type": "code",
   "execution_count": null,
   "metadata": {},
   "outputs": [],
   "source": [
    "nodes = nodes_from_csv(\"data/frame/nodes.csv\")\n",
    "elements = elements_from_csv(\"data/frame/elements.csv\", nodes)\n",
    "\n",
    "stiffness, mass = assemble_system_matrices(elements)\n",
    "damping = 0.01 * mass + 0.001 * stiffness\n",
    "# damping = None\n",
    "\n",
    "elements = reindex_dof(elements)"
   ]
  },
  {
   "cell_type": "code",
   "execution_count": null,
   "metadata": {},
   "outputs": [],
   "source": [
    "loads = np.zeros((stiffness.shape[0]))\n",
    "loads[10] = 50\n",
    "\n",
    "displacements = np.linalg.inv(stiffness).dot(loads)"
   ]
  },
  {
   "cell_type": "code",
   "execution_count": null,
   "metadata": {},
   "outputs": [],
   "source": [
    "plot_deformations(elements, displacements)"
   ]
  },
  {
   "cell_type": "markdown",
   "metadata": {},
   "source": [
    "### Get stresses in an element\n",
    "\n",
    "`displacements_to_stresses` takes the global displacement vector (`displacements`), one element (`element`) and the distance from the neutral axis of the element to the outermost fibre (`z`).\n",
    "\n",
    "The result is a 2-item list, where each item is a 2-item tuple. Each item in the list corresponds to a node, so `stress[0]` are the stresses of the start node and `stress[1]` are the stresses of the end node.\n",
    "\n",
    "The tuples are the pair of (normal stress, bending stress). Therefore, `stress[0][0]` is the normal stress in the start node and `stress[1][1]` is the bending stress in the end node."
   ]
  },
  {
   "cell_type": "code",
   "execution_count": null,
   "metadata": {},
   "outputs": [],
   "source": [
    "stress = displacements_to_stresses(displacements, elements[0], z=0.01)\n",
    "\n",
    "print(f\"Normal stress at start node is {stress[0][0]}\")\n",
    "print(f\"Normal stress at end node is {stress[1][0]}\")\n",
    "print(f\"Bending stress at start node is {stress[0][1]}\")\n",
    "print(f\"Bending stress at end node is {stress[1][1]}\")"
   ]
  }
 ],
 "metadata": {
  "kernelspec": {
   "display_name": "Python 3",
   "language": "python",
   "name": "python3"
  },
  "language_info": {
   "codemirror_mode": {
    "name": "ipython",
    "version": 3
   },
   "file_extension": ".py",
   "mimetype": "text/x-python",
   "name": "python",
   "nbconvert_exporter": "python",
   "pygments_lexer": "ipython3",
   "version": "3.11.5"
  }
 },
 "nbformat": 4,
 "nbformat_minor": 2
}
