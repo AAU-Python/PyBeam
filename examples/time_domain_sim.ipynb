{
 "cells": [
  {
   "cell_type": "markdown",
   "metadata": {},
   "source": [
    "### Import necessary names\n",
    "Always run the cell below after kernel restart."
   ]
  },
  {
   "cell_type": "code",
   "execution_count": 1,
   "metadata": {},
   "outputs": [],
   "source": [
    "from pybeam.datamodels import nodes_from_csv, elements_from_csv\n",
    "from pybeam.assembly import assemble_system_matrices\n",
    "from pybeam.simulation import newmark\n",
    "\n",
    "import numpy as np"
   ]
  },
  {
   "cell_type": "markdown",
   "metadata": {},
   "source": [
    "### Initialize system matrices"
   ]
  },
  {
   "cell_type": "code",
   "execution_count": 40,
   "metadata": {},
   "outputs": [
    {
     "name": "stderr",
     "output_type": "stream",
     "text": [
      "[pybeam.datamodels] [\u001b[32mINFO\u001b[0m] Got 4 nodes from data/nodes.csv\n",
      "[pybeam.datamodels] [\u001b[32mINFO\u001b[0m] Got 3 elements from data/elements.csv\n",
      "[pybeam.assembly] [\u001b[32mINFO\u001b[0m] Generated stiffness and mass with 9 DOF\n"
     ]
    }
   ],
   "source": [
    "nodes = nodes_from_csv(\"data/nodes.csv\")\n",
    "elements = elements_from_csv(\"data/elements.csv\", nodes)\n",
    "\n",
    "stiffness, mass = assemble_system_matrices(elements)\n",
    "# damping = 0.001 * mass + 0.001 * stiffness\n",
    "damping = None"
   ]
  },
  {
   "cell_type": "markdown",
   "metadata": {},
   "source": [
    "### Set simulation parameters"
   ]
  },
  {
   "cell_type": "code",
   "execution_count": 41,
   "metadata": {},
   "outputs": [],
   "source": [
    "# Number of DOF\n",
    "n_dof = stiffness.shape[0]\n",
    "\n",
    "# Time step size\n",
    "dt = 0.001\n",
    "# End time\n",
    "t_end = 20\n",
    "# Time steps\n",
    "time = np.arange(start=0, stop=t_end, step=dt)\n",
    "\n",
    "# Loading\n",
    "loads = np.zeros((n_dof, len(time)))\n",
    "\n",
    "# Initial conditions\n",
    "x_0 = np.zeros((n_dof,))\n",
    "x_0[-3] = 0.1\n",
    "v_0 = np.zeros((n_dof,))"
   ]
  },
  {
   "cell_type": "code",
   "execution_count": 32,
   "metadata": {},
   "outputs": [
    {
     "data": {
      "text/plain": [
       "(0, 1, 2)"
      ]
     },
     "execution_count": 32,
     "metadata": {},
     "output_type": "execute_result"
    }
   ],
   "source": [
    "elements[0].start_node.dofs"
   ]
  },
  {
   "cell_type": "markdown",
   "metadata": {},
   "source": [
    "### Run simulation"
   ]
  },
  {
   "cell_type": "code",
   "execution_count": 42,
   "metadata": {},
   "outputs": [
    {
     "name": "stderr",
     "output_type": "stream",
     "text": [
      "[pybeam.simulation] [\u001b[32mINFO\u001b[0m] System is undamped.\n",
      "[pybeam.simulation] [\u001b[32mINFO\u001b[0m] Simulating with constant acceleration\n"
     ]
    }
   ],
   "source": [
    "x, v, a = newmark(\n",
    "    stiffness=stiffness,\n",
    "    mass=mass,\n",
    "    damping=damping,\n",
    "    initial_disp=x_0,\n",
    "    initial_vel=v_0,\n",
    "    loads=loads,\n",
    "    time=time,\n",
    "    beta=1/4,\n",
    ")"
   ]
  },
  {
   "cell_type": "code",
   "execution_count": 44,
   "metadata": {},
   "outputs": [
    {
     "name": "stdout",
     "output_type": "stream",
     "text": [
      "Using matplotlib backend: QtAgg\n"
     ]
    }
   ],
   "source": [
    "import matplotlib.pyplot as plt\n",
    "plt.style.use(\"dark_background\")\n",
    "%matplotlib\n",
    "plt.ion()\n",
    "plt\n",
    "\n",
    "\n",
    "ax = plt.gca()\n",
    "ax.plot(time, x[-3, :])\n",
    "\n",
    "plt.show()"
   ]
  }
 ],
 "metadata": {
  "kernelspec": {
   "display_name": "Python 3",
   "language": "python",
   "name": "python3"
  },
  "language_info": {
   "codemirror_mode": {
    "name": "ipython",
    "version": 3
   },
   "file_extension": ".py",
   "mimetype": "text/x-python",
   "name": "python",
   "nbconvert_exporter": "python",
   "pygments_lexer": "ipython3",
   "version": "3.12.0"
  }
 },
 "nbformat": 4,
 "nbformat_minor": 2
}
