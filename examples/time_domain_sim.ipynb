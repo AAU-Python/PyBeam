{
 "cells": [
  {
   "cell_type": "markdown",
   "metadata": {},
   "source": [
    "### Import necessary names\n",
    "Always run the cell below after kernel restart."
   ]
  },
  {
   "cell_type": "code",
   "execution_count": null,
   "metadata": {},
   "outputs": [],
   "source": [
    "from pybeam.datamodels import nodes_from_csv, elements_from_csv\n",
    "from pybeam.assembly import assemble_system_matrices\n",
    "from pybeam.simulation import newmark\n",
    "from pybeam.modal_parameters import get_modal_parameters\n",
    "from pybeam._utilities import pprint_array\n",
    "\n",
    "import numpy as np"
   ]
  },
  {
   "cell_type": "markdown",
   "metadata": {},
   "source": [
    "### Initialize system matrices"
   ]
  },
  {
   "cell_type": "code",
   "execution_count": null,
   "metadata": {},
   "outputs": [],
   "source": [
    "nodes = nodes_from_csv(\"data/nodes.csv\")\n",
    "elements = elements_from_csv(\"data/elements.csv\", nodes)\n",
    "\n",
    "stiffness, mass = assemble_system_matrices(elements)\n",
    "damping = 0.01 * mass + 0.001 * stiffness\n",
    "# damping = None"
   ]
  },
  {
   "cell_type": "code",
   "execution_count": null,
   "metadata": {},
   "outputs": [],
   "source": [
    "eigenfrequencies, modeshapes = get_modal_parameters(stiffness, mass)\n",
    "pprint_array(eigenfrequencies)"
   ]
  },
  {
   "cell_type": "markdown",
   "metadata": {},
   "source": [
    "### Set simulation parameters"
   ]
  },
  {
   "cell_type": "code",
   "execution_count": null,
   "metadata": {},
   "outputs": [],
   "source": [
    "# Number of DOF\n",
    "n_dof = stiffness.shape[0]\n",
    "\n",
    "# Time step size\n",
    "dt = 0.0001\n",
    "\n",
    "# End time\n",
    "t_end = 10\n",
    "# Time steps\n",
    "time = np.arange(start=0, stop=t_end, step=dt)\n",
    "\n",
    "# Loading\n",
    "loads = np.zeros((n_dof, len(time)))\n",
    "loads[-2, :] = 100 *  np.cos(\n",
    "    (eigenfrequencies[0] + eigenfrequencies[1]) / 2\n",
    "    * time\n",
    ")\n",
    "\n",
    "# Initial conditions\n",
    "x_0 = np.zeros((n_dof,))\n",
    "# x_0[-2] = 0.1\n",
    "v_0 = np.zeros((n_dof,))"
   ]
  },
  {
   "cell_type": "markdown",
   "metadata": {},
   "source": [
    "### Run simulation"
   ]
  },
  {
   "cell_type": "code",
   "execution_count": null,
   "metadata": {},
   "outputs": [],
   "source": [
    "x, v, a = newmark(\n",
    "    stiffness=stiffness,\n",
    "    mass=mass,\n",
    "    damping=damping,\n",
    "    initial_disp=x_0,\n",
    "    initial_vel=v_0,\n",
    "    loads=loads,\n",
    "    time=time,\n",
    "    beta=1/6,\n",
    ")"
   ]
  },
  {
   "cell_type": "code",
   "execution_count": null,
   "metadata": {},
   "outputs": [],
   "source": [
    "import matplotlib.pyplot as plt\n",
    "%matplotlib\n",
    "plt.ion()\n",
    "plt.style.use(\"dark_background\")\n",
    "\n",
    "\n",
    "ax = plt.gca()\n",
    "ax.plot(time, x[-2, :])\n",
    "\n",
    "plt.show()"
   ]
  },
  {
   "cell_type": "code",
   "execution_count": null,
   "metadata": {},
   "outputs": [],
   "source": []
  }
 ],
 "metadata": {
  "kernelspec": {
   "display_name": "Python 3",
   "language": "python",
   "name": "python3"
  },
  "language_info": {
   "codemirror_mode": {
    "name": "ipython",
    "version": 3
   },
   "file_extension": ".py",
   "mimetype": "text/x-python",
   "name": "python",
   "nbconvert_exporter": "python",
   "pygments_lexer": "ipython3",
   "version": "3.12.0"
  }
 },
 "nbformat": 4,
 "nbformat_minor": 2
}
