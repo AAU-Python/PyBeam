{
 "cells": [
  {
   "cell_type": "markdown",
   "metadata": {},
   "source": [
    "### Import necessary names\n",
    "Always run the cell below after kernel restart."
   ]
  },
  {
   "cell_type": "code",
   "execution_count": null,
   "metadata": {},
   "outputs": [],
   "source": [
    "from pybeam.datamodels import nodes_from_csv, elements_from_csv\n",
    "from pybeam.assembly import assemble_system_matrices, reindex_dof\n",
    "from pybeam.simulation import simulate\n",
    "from pybeam.modal_parameters import get_modal_parameters\n",
    "from pybeam._utilities import pprint_array\n",
    "from pybeam.plotting import plot_structure, plot_modeshape, set_style, plot_deformations\n",
    "\n",
    "%matplotlib qt5\n",
    "set_style()\n",
    "import numpy as np\n",
    "\n",
    "import logging\n",
    "\n",
    "logging.getLogger(\"pybeam\").setLevel(logging.INFO)"
   ]
  },
  {
   "cell_type": "markdown",
   "metadata": {},
   "source": [
    "### Initialize system matrices\n",
    "\n",
    "Assemble the system matrices.\n",
    "\n",
    "The damping matrix is defined by Rayleigh's damping model. Change coefficients as needed."
   ]
  },
  {
   "cell_type": "code",
   "execution_count": null,
   "metadata": {},
   "outputs": [],
   "source": [
    "nodes = nodes_from_csv(\"data/frame/nodes.csv\")\n",
    "elements = elements_from_csv(\"data/frame/elements.csv\", nodes)\n",
    "\n",
    "stiffness, mass = assemble_system_matrices(elements)\n",
    "damping = 0.01 * mass + 0.001 * stiffness\n",
    "# damping = None\n",
    "\n",
    "elements = reindex_dof(elements)\n",
    "\n",
    "plot_structure(elements, node_labels=True, element_labels=True)"
   ]
  },
  {
   "cell_type": "markdown",
   "metadata": {},
   "source": [
    "### Get eigenfrequencies and modeshapes\n",
    "\n",
    "The cell below will compute eigenfrequencies and the modal matrix."
   ]
  },
  {
   "cell_type": "code",
   "execution_count": null,
   "metadata": {},
   "outputs": [],
   "source": [
    "eigenfrequencies, modeshapes = get_modal_parameters(stiffness, mass)\n",
    "\n",
    "print(f\"{'Mode number':<11s} | {'Eigenfrequency [Hz]':>19} |{'Eigenfrequency [rad/s]':>23} | {'Min dt':>8}\")\n",
    "for i, omega in enumerate(eigenfrequencies):\n",
    "    print(f\"Mode {i:>6d} |{omega / (2 * 3.1415):>20.4f} |{omega:>23.4f} |{(3.1415) / omega:>9.6f}\")"
   ]
  },
  {
   "cell_type": "markdown",
   "metadata": {},
   "source": [
    "### Plot modeshapes\n",
    "\n",
    "The cell below will plot the mesh and a modeshape. Control what modeshape to plot with the `mode` argument."
   ]
  },
  {
   "cell_type": "code",
   "execution_count": null,
   "metadata": {},
   "outputs": [],
   "source": [
    "plot_structure(elements, node_labels=False, element_labels=False)\n",
    "plot_modeshape(elements, modeshapes, mode=0, scale=1)"
   ]
  },
  {
   "cell_type": "markdown",
   "metadata": {},
   "source": [
    "### Set simulation parameters\n",
    "\n",
    "Set parameters for the time-domain simulation.\n",
    "\n",
    "Parameters you can play around with:\n",
    "\n",
    "* `dt`: Time step size\n",
    "* `t_end`: Last time step\n",
    "* `loads`: This is the load time series. You define loads by indexing into the `loads` variable, which is an array.\n",
    "  * The index `loads[0, :]` means \"0th DOF, all columns (all time steps)\"\n",
    "  * To define the load in the 3rd DOF as a cosine function with a frequency of 10 rad/s and an amplitude of 20, do:\n",
    "\n",
    "    ```python\n",
    "    loads[3, :] = 20 * np.cos(10 * t)\n",
    "    ```\n",
    "\n",
    "  * To define the load in the 2nd to last DOF as a step function with amplitude 40, starting at time 30, do:\n",
    "\n",
    "    >```python\n",
    "    ># First, we get the index of the time step that has value 40\n",
    "    ># `np.where` returns an 1 x n array, where n is the number of matches.\n",
    "    ># We use [0][0] to get the 0th row, and 0th column.\n",
    "    >start_index = np.where(time==30)[0][0]\n",
    "    ># Now we set the value of the load to 40 for all time steps where time>=30\n",
    "    ># The [-2, start_index:] index means \"second to last row, all columns from start_index to the end\"\n",
    "    >loads[-2, start_index:] = 40\n",
    "    >```\n",
    "\n",
    "\n",
    "* `x_0`, `v_0`: Initial displacements and initial velocities. Both are n_dof x 1 vectors.\n",
    "  * To set the initial displacement in the last DOF to 5, do\n",
    "\n",
    "    >```python\n",
    "    ># The [-1] index means \"last item\".\n",
    "    >x_0[-1] = 5\n",
    "    >```\n",
    "\n",
    "  * You can also set several values at once. If we want to set the initial velocity of DOFs 0, 5 and 8 to 0.1, 0.5 and 1.2, respectively, we can do:\n",
    "\n",
    "    >```python\n",
    "    ># Node the nested square brackets - [[...]] instead of [...].\n",
    "    ># It means that we are indexing into several items along that axis.\n",
    "    >v_0[[0, 5, 8]] = 0.1, 0.5, 1.2\n",
    "    ># In this case, there is only one axis, because we are dealing with vectors.\n",
    "    ># If we were dealing with a 2D array/matrix, we could do\n",
    "    > # [[0, 5, 8], [0, 1]] to get rows 0, 5 and 8, columns 0 and 1.\n",
    "    >```\n",
    "\n",
    "* `beta`: This is an integration parameter in the Newmark algorithm. `beta=1/6` means that we are using linear acceleration, and `beta=1/4` means that we are using constant acceleration between two time steps.\n",
    "  * Note: If you are using `beta=1/6`, the algorithm is conditionally stable. If you are getting an unstable time response, do one of these three:\n",
    "    1. Decrease `dt`. This will give you more time steps, which means more computing power is needed, but it will give stable results once it becomes small enough.\n",
    "    2. Increase the damping. Simply adjusting the damping to your needs is not physical, but numerically, it can give stability.\n",
    "    3. Use `beta=1/4`. In this case the algorithm is unconditionally stable. However, constant acceleration gives a less precise representation of the physical structure. You can try to mitigate this by decreasing `dt` to get shorter time steps. This will improve our approximation of the physical structure's behaviour, but also be more computationally expensive."
   ]
  },
  {
   "cell_type": "code",
   "execution_count": null,
   "metadata": {},
   "outputs": [],
   "source": [
    "# Number of DOF\n",
    "n_dof = stiffness.shape[0]\n",
    "\n",
    "# Time step size\n",
    "dt = 0.005\n",
    "\n",
    "# End time\n",
    "t_end = 2\n",
    "# Time steps\n",
    "time = np.arange(start=0, stop=t_end + dt, step=dt)\n",
    "\n",
    "# Loading\n",
    "loads = np.zeros((n_dof, len(time)))\n",
    "loads[9, :] = 100 * np.cos((eigenfrequencies[0] + eigenfrequencies[1]) / 2 * time)\n",
    "\n",
    "loads[13, :] = 50 * np.cos(0.8 * eigenfrequencies[2] * time)\n",
    "\n",
    "# Initial conditions\n",
    "x_0 = np.zeros((n_dof,))\n",
    "# x_0[16] = 0.5\n",
    "v_0 = np.zeros((n_dof,))\n",
    "\n",
    "# Integration parameter\n",
    "beta = 1 / 4"
   ]
  },
  {
   "cell_type": "markdown",
   "metadata": {},
   "source": [
    "### Run simulation\n",
    "\n",
    "Simulate the time response. This might be a bit slow the first time you run it, but will speed up significantly after that."
   ]
  },
  {
   "cell_type": "code",
   "execution_count": null,
   "metadata": {},
   "outputs": [],
   "source": [
    "x, v, a = simulate(\n",
    "    stiffness=stiffness,\n",
    "    mass=mass,\n",
    "    damping=damping,\n",
    "    initial_disp=x_0,\n",
    "    initial_vel=v_0,\n",
    "    loads=loads,\n",
    "    time=time,\n",
    "    beta=beta,\n",
    "    gamma=1 / 2,  # Don't change this unless you know what you're doing\n",
    ")"
   ]
  },
  {
   "cell_type": "markdown",
   "metadata": {},
   "source": [
    "### Plot the time response\n",
    "\n",
    "The cell below will plot the time response.\n",
    "\n",
    "Change the index in `x[-2, :]` to plot the response for other DOF. For example, `x[0, :]` will plot the response for the 0th DOF.\n",
    "\n",
    "You can also plot the velocity or acceleration response, by replacing `x` with `v` or `a`, or you can plot a load from the `loads` variable."
   ]
  },
  {
   "cell_type": "code",
   "execution_count": null,
   "metadata": {},
   "outputs": [],
   "source": [
    "import matplotlib.pyplot as plt\n",
    "\n",
    "ax = plt.gca()\n",
    "\n",
    "# Adjust the look of the plot\n",
    "ax.set_xlabel(\"Time\")\n",
    "ax.set_ylabel(\"Displacement\")\n",
    "ax.set_xlim(0, time[-1])\n",
    "\n",
    "ax.plot(time, x[16, :], color=\"white\")\n",
    "plt.show()"
   ]
  }
 ],
 "metadata": {
  "kernelspec": {
   "display_name": "Python 3",
   "language": "python",
   "name": "python3"
  },
  "language_info": {
   "codemirror_mode": {
    "name": "ipython",
    "version": 3
   },
   "file_extension": ".py",
   "mimetype": "text/x-python",
   "name": "python",
   "nbconvert_exporter": "python",
   "pygments_lexer": "ipython3",
   "version": "3.12.0"
  }
 },
 "nbformat": 4,
 "nbformat_minor": 2
}
