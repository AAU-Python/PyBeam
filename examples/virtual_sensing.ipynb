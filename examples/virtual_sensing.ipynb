{
 "cells": [
  {
   "cell_type": "code",
   "execution_count": null,
   "metadata": {},
   "outputs": [],
   "source": [
    "from pybeam.datamodels import nodes_from_csv, elements_from_csv\n",
    "from pybeam.assembly import assemble_system_matrices, reindex_dof\n",
    "from pybeam.simulation import simulate\n",
    "from pybeam.modal_parameters import get_modal_parameters\n",
    "from pybeam._utilities import pprint_array\n",
    "from pybeam.plotting import plot_structure, plot_modeshape, set_style, plot_deformations\n",
    "import matplotlib.pyplot as plt\n",
    "\n",
    "%matplotlib qt5\n",
    "set_style()\n",
    "import numpy as np\n",
    "\n",
    "import logging\n",
    "\n",
    "logging.getLogger(\"pybeam\").setLevel(logging.INFO)"
   ]
  },
  {
   "cell_type": "markdown",
   "metadata": {},
   "source": [
    "### System assembly and computation of mode shapes"
   ]
  },
  {
   "cell_type": "code",
   "execution_count": null,
   "metadata": {},
   "outputs": [],
   "source": [
    "from pybeam.datamodels import nodes_from_csv, elements_from_csv\n",
    "from pybeam.assembly import assemble_system_matrices, reindex_dof\n",
    "from pybeam.modal_parameters import get_modal_parameters\n",
    "\n",
    "nodes = nodes_from_csv(\"data/clamped_beam/nodes.csv\")\n",
    "elements = elements_from_csv(\"data/clamped_beam/elements.csv\", nodes)\n",
    "\n",
    "stiffness, mass = assemble_system_matrices(elements)\n",
    "damping = 0.01 * mass + 0.001 * stiffness\n",
    "\n",
    "elements = reindex_dof(elements)\n",
    "eigenfrequencies, modeshapes = get_modal_parameters(stiffness, mass)"
   ]
  },
  {
   "cell_type": "markdown",
   "metadata": {},
   "source": [
    "### Plot mode shapes"
   ]
  },
  {
   "cell_type": "code",
   "execution_count": null,
   "metadata": {},
   "outputs": [],
   "source": [
    "import matplotlib.pyplot as plt\n",
    "from pybeam.plotting import plot_structure, plot_modeshape\n",
    "\n",
    "plt.figure()\n",
    "plot_structure(elements, node_labels=False, element_labels=False)\n",
    "plot_modeshape(elements, modeshapes, mode=0, scale=1)"
   ]
  },
  {
   "cell_type": "markdown",
   "metadata": {},
   "source": [
    "### Time response simulation"
   ]
  },
  {
   "cell_type": "code",
   "execution_count": null,
   "metadata": {},
   "outputs": [],
   "source": [
    "# Number of DOF\n",
    "n_dof = stiffness.shape[0]\n",
    "\n",
    "# Time step size\n",
    "dt = 0.005\n",
    "\n",
    "# End time\n",
    "t_end = 2\n",
    "# Time steps\n",
    "time = np.arange(start=0, stop=t_end + dt, step=dt)\n",
    "\n",
    "# Loading\n",
    "loads = np.zeros((n_dof, len(time)))\n",
    "# loads[9, :] = 100 * np.cos((eigenfrequencies[0] + eigenfrequencies[1]) / 2 * time)\n",
    "\n",
    "# loads[13, :] = 50 * np.cos(0.8 * eigenfrequencies[2] * time)\n",
    "\n",
    "# Initial conditions\n",
    "x_0 = np.zeros((n_dof,))\n",
    "x_0[7] = 0.5\n",
    "v_0 = np.zeros((n_dof,))\n",
    "\n",
    "# Integration parameter\n",
    "beta = 1 / 4\n",
    "\n",
    "x, v, a = simulate(\n",
    "    stiffness=stiffness,\n",
    "    mass=mass,\n",
    "    damping=damping,\n",
    "    initial_disp=x_0,\n",
    "    initial_vel=v_0,\n",
    "    loads=loads,\n",
    "    time=time,\n",
    "    beta=beta,\n",
    "    gamma=1 / 2,  # Don't change this unless you know what you're doing\n",
    ")"
   ]
  },
  {
   "cell_type": "markdown",
   "metadata": {},
   "source": [
    "### Virtual sensing"
   ]
  },
  {
   "cell_type": "code",
   "execution_count": null,
   "metadata": {},
   "outputs": [],
   "source": [
    "import numpy as np\n",
    "\n",
    "n_time_steps = x.shape[1]  # The number of time steps\n",
    "n_dof = modeshapes.shape[0]  # The number of model-based DOF\n",
    "\n",
    "measured_dof = (1, 2, 4, 5, 7)  # DOF where we have sensors\n",
    "estimated_dof = (6, 7, 8)  # DOF where we wish to estimate the response\n",
    "\n",
    "# Helper variable\n",
    "sensor_map = {dof: i for i, dof in enumerate(estimated_dof)}\n",
    "\n",
    "phi_m = modeshapes[measured_dof, :]\n",
    "x_m = x[measured_dof, :]\n",
    "\n",
    "phi_v = modeshapes[estimated_dof, :]\n",
    "x_v = np.zeros((len(estimated_dof), n_time_steps))\n",
    "\n",
    "q = np.zeros((n_dof, n_time_steps), dtype=np.float64)\n",
    "\n",
    "# Loop over time steps, determine q and x_v at each time step\n",
    "for i, x_im in enumerate(x_m.T):\n",
    "    q[:, i] = np.linalg.pinv(phi_m).dot(x_im)\n",
    "    x_v[:, i] = phi_v.dot(q[:, i])"
   ]
  },
  {
   "cell_type": "markdown",
   "metadata": {},
   "source": [
    "### Inspect results"
   ]
  },
  {
   "cell_type": "code",
   "execution_count": null,
   "metadata": {},
   "outputs": [],
   "source": [
    "import matplotlib.pyplot as plt\n",
    "\n",
    "dof_to_plot = 8\n",
    "\n",
    "\n",
    "plt.figure()\n",
    "ax = plt.gca()\n",
    "\n",
    "# Adjust the look of the plot\n",
    "ax.set_xlabel(\"Time\")\n",
    "ax.set_ylabel(\"Displacement\")\n",
    "ax.set_xlim(0, time[-1])\n",
    "\n",
    "ax.plot(time, x[dof_to_plot, :], color=\"white\")\n",
    "ax.plot(time, x_v[sensor_map[dof_to_plot], :], color=\"blue\", linestyle=\"dashed\")\n",
    "plt.show()"
   ]
  }
 ],
 "metadata": {
  "kernelspec": {
   "display_name": "Python 3",
   "language": "python",
   "name": "python3"
  },
  "language_info": {
   "codemirror_mode": {
    "name": "ipython",
    "version": 3
   },
   "file_extension": ".py",
   "mimetype": "text/x-python",
   "name": "python",
   "nbconvert_exporter": "python",
   "pygments_lexer": "ipython3",
   "version": "3.11.5"
  }
 },
 "nbformat": 4,
 "nbformat_minor": 2
}
