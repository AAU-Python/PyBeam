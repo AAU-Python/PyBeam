{
 "cells": [
  {
   "cell_type": "code",
   "execution_count": null,
   "metadata": {},
   "outputs": [],
   "source": [
    "from pybeam.datamodels import nodes_from_csv, elements_from_csv\n",
    "from pybeam.assembly import assemble_system_matrices, reindex_dof\n",
    "from pybeam.simulation import simulate\n",
    "from pybeam.modal_parameters import get_modal_parameters\n",
    "from pybeam._utilities import pprint_array\n",
    "from pybeam.plotting import plot_structure, plot_modeshape, set_style, plot_deformations\n",
    "from pybeam.fatigue import get_stress_history\n",
    "import matplotlib.pyplot as plt\n",
    "\n",
    "%matplotlib qt5\n",
    "set_style()\n",
    "import numpy as np\n",
    "\n",
    "import logging\n",
    "\n",
    "logging.getLogger(\"pybeam\").setLevel(logging.INFO)"
   ]
  },
  {
   "cell_type": "markdown",
   "metadata": {},
   "source": [
    "### Initialize system matrices\n",
    "\n",
    "Assemble the system matrices.\n",
    "\n",
    "The damping matrix is defined by Rayleigh's damping model. Change coefficients as needed."
   ]
  },
  {
   "cell_type": "code",
   "execution_count": null,
   "metadata": {},
   "outputs": [],
   "source": [
    "nodes = nodes_from_csv(\"data/frame/nodes.csv\")\n",
    "elements = elements_from_csv(\"data/frame/elements.csv\", nodes)\n",
    "\n",
    "stiffness, mass = assemble_system_matrices(elements)\n",
    "damping = 0.01 * mass + 0.001 * stiffness\n",
    "# damping = None\n",
    "\n",
    "elements = reindex_dof(elements)\n",
    "\n",
    "plt.figure()\n",
    "plot_structure(elements, node_labels=True, element_labels=True)"
   ]
  },
  {
   "cell_type": "markdown",
   "metadata": {},
   "source": [
    "### Set simulation parameters"
   ]
  },
  {
   "cell_type": "code",
   "execution_count": null,
   "metadata": {},
   "outputs": [],
   "source": [
    "# Number of DOF\n",
    "n_dof = stiffness.shape[0]\n",
    "\n",
    "# Time step size\n",
    "dt = 0.005\n",
    "\n",
    "# End time\n",
    "t_end = 100\n",
    "# Time steps\n",
    "time = np.arange(start=0, stop=t_end + dt, step=dt)\n",
    "\n",
    "# Loading\n",
    "loads = np.zeros((n_dof, len(time)))\n",
    "loads[9, :] = 100 * np.cos(4 * time)\n",
    "\n",
    "# Initial conditions\n",
    "x_0 = np.zeros((n_dof,))\n",
    "# x_0[16] = 0.5\n",
    "v_0 = np.zeros((n_dof,))\n",
    "\n",
    "# Integration parameter\n",
    "beta = 1 / 4"
   ]
  },
  {
   "cell_type": "markdown",
   "metadata": {},
   "source": [
    "### Simulate the time response"
   ]
  },
  {
   "cell_type": "code",
   "execution_count": null,
   "metadata": {},
   "outputs": [],
   "source": [
    "x, v, a = simulate(\n",
    "    stiffness=stiffness,\n",
    "    mass=mass,\n",
    "    damping=damping,\n",
    "    initial_disp=x_0,\n",
    "    initial_vel=v_0,\n",
    "    loads=loads,\n",
    "    time=time,\n",
    "    beta=beta,\n",
    "    gamma=1 / 2,  # Don't change this unless you know what you're doing\n",
    ")"
   ]
  },
  {
   "cell_type": "markdown",
   "metadata": {},
   "source": [
    "### Get stress history at node\n",
    "\n",
    "The `get_stress_history` function takes a displacement time series, defined in global coordinates and defned for all DOF, an element, the distance away from the element's neutral axis and the node to be used (can be `\"start\"` or `\"end\"`).\n",
    "\n",
    "The output is an N-sized vector of normal stresses, where N is then number of time steps."
   ]
  },
  {
   "cell_type": "code",
   "execution_count": null,
   "metadata": {},
   "outputs": [],
   "source": [
    "stresses = get_stress_history(x, elements[10], z=0.005, node=\"end\")"
   ]
  },
  {
   "cell_type": "markdown",
   "metadata": {},
   "source": [
    "### Plot stress history"
   ]
  },
  {
   "cell_type": "code",
   "execution_count": null,
   "metadata": {},
   "outputs": [],
   "source": [
    "import matplotlib.pyplot as plt\n",
    "\n",
    "plt.figure()\n",
    "ax = plt.gca()\n",
    "\n",
    "# Adjust the look of the plot\n",
    "ax.set_xlabel(\"Time\")\n",
    "ax.set_ylabel(\"Stress\")\n",
    "ax.set_xlim(0, time[-1])\n",
    "\n",
    "ax.plot(time, stresses * 1e-6, color=\"white\")\n",
    "plt.show()"
   ]
  },
  {
   "cell_type": "markdown",
   "metadata": {},
   "source": [
    "### Rainflow counting"
   ]
  },
  {
   "cell_type": "code",
   "execution_count": null,
   "metadata": {},
   "outputs": [],
   "source": [
    "import rainflow\n",
    "\n",
    "scaling_factor = 1e-6  # To go from Pa to MPa\n",
    "\n",
    "bins = rainflow.count_cycles(stresses, ndigits=0)\n",
    "ranges = [bin[0] * scaling_factor for bin in bins]\n",
    "counts = [bin[1] for bin in bins]"
   ]
  },
  {
   "cell_type": "markdown",
   "metadata": {},
   "source": [
    "### Plot cycle counts"
   ]
  },
  {
   "cell_type": "code",
   "execution_count": null,
   "metadata": {},
   "outputs": [],
   "source": [
    "plt.figure()\n",
    "ax = plt.gca()\n",
    "ax.set_xlabel(\"Stress range\")\n",
    "ax.set_ylabel(\"Count\")\n",
    "plt.hist(ranges, bins=20, edgecolor=\"black\", color=\"gray\")  # Change the number of bars in the plot\n",
    "plt.show()"
   ]
  },
  {
   "cell_type": "markdown",
   "metadata": {},
   "source": [
    "### Define SN curve"
   ]
  },
  {
   "cell_type": "code",
   "execution_count": null,
   "metadata": {},
   "outputs": [],
   "source": [
    "from pybeam.datamodels import SnCurveDnv, SnCurveEurocode\n",
    "import numpy as np\n",
    "\n",
    "# We define an SN curve with detail category 100\n",
    "sn_curve = SnCurveEurocode(d_sigma_c=100)\n",
    "\n",
    "# Get the fatigue damage for each stress range\n",
    "damages = []\n",
    "\n",
    "# We iterate over the ranges and counts\n",
    "for i, (stress_range, n_i) in enumerate(zip(ranges, counts)):\n",
    "    # N_i is the fatigue life at the current stress range\n",
    "    N_i = sn_curve.get_cycles_at_range(stress_range)\n",
    "\n",
    "    # If N_i is infinite, we don't need to do anything\n",
    "    if N_i == np.inf:\n",
    "        continue\n",
    "    # Otherwise, we calculate the damage according to Palmgren-Miner's rule\n",
    "    else:\n",
    "        damage = n_i / N_i\n",
    "        damages.append(damage)\n",
    "\n",
    "print(f\"The total damage is: {sum(damages)}\")"
   ]
  }
 ],
 "metadata": {
  "kernelspec": {
   "display_name": "Python 3",
   "language": "python",
   "name": "python3"
  },
  "language_info": {
   "codemirror_mode": {
    "name": "ipython",
    "version": 3
   },
   "file_extension": ".py",
   "mimetype": "text/x-python",
   "name": "python",
   "nbconvert_exporter": "python",
   "pygments_lexer": "ipython3",
   "version": "3.11.5"
  }
 },
 "nbformat": 4,
 "nbformat_minor": 2
}
