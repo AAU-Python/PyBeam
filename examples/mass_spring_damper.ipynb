{
 "cells": [
  {
   "cell_type": "markdown",
   "metadata": {},
   "source": [
    "### System matrices"
   ]
  },
  {
   "cell_type": "code",
   "execution_count": 1,
   "metadata": {},
   "outputs": [],
   "source": [
    "import numpy as np\n",
    "\n",
    "mass = np.array(\n",
    "    [\n",
    "        [9, 0],\n",
    "        [0, 1]\n",
    "    ],\n",
    "    dtype=np.float64\n",
    ")\n",
    "\n",
    "damping = np.array(\n",
    "    [\n",
    "        [2.7, -0.3],\n",
    "        [-0.3, 0.3]\n",
    "    ],\n",
    "    dtype=np.float64\n",
    ")\n",
    "\n",
    "stiffness = np.array(\n",
    "    [\n",
    "        [27, -3],\n",
    "        [-3, 3]\n",
    "    ],\n",
    "    dtype=np.float64\n",
    ")"
   ]
  },
  {
   "cell_type": "markdown",
   "metadata": {},
   "source": [
    "### Modal decoupling"
   ]
  },
  {
   "cell_type": "code",
   "execution_count": 2,
   "metadata": {},
   "outputs": [
    {
     "name": "stdout",
     "output_type": "stream",
     "text": [
      "Modal mass\n",
      "[[1. 0.]\n",
      " [0. 1.]]\n",
      "\n",
      "Eigenfrequencies from eigenvalue problem\n",
      "[[1.41421356 0.        ]\n",
      " [0.         2.        ]]\n",
      "\n",
      "Eigenfrequencies from modal decoupling\n",
      "[[1.41421356 0.00000003]\n",
      " [0.00000002 2.        ]]\n",
      "\n",
      "Damping ratios from modal decoupling\n",
      "[[0.07071068 0.        ]\n",
      " [0.         0.1       ]]\n"
     ]
    }
   ],
   "source": [
    "from pybeam.modal_parameters import get_modal_parameters\n",
    "from pybeam._utilities import pprint_array\n",
    "\n",
    "eigenfrequencies, modeshapes = get_modal_parameters(stiffness, mass, normalize=True)\n",
    "\n",
    "modal_mass = modeshapes.T.dot(mass).dot(modeshapes)\n",
    "modal_stiffness = modeshapes.T.dot(stiffness).dot(modeshapes)\n",
    "modal_damping = modeshapes.T.dot(damping).dot(modeshapes)\n",
    "damping_ratios = np.diag(modal_damping) / (2 * eigenfrequencies)\n",
    "\n",
    "\n",
    "print(\"Modal mass\")\n",
    "pprint_array(modal_mass)\n",
    "print(\"\")\n",
    "print(\"Eigenfrequencies from eigenvalue problem\")\n",
    "pprint_array(np.diag(eigenfrequencies))\n",
    "print(\"\")\n",
    "print(\"Eigenfrequencies from modal decoupling\")\n",
    "pprint_array(np.sqrt(modal_stiffness))\n",
    "print(\"\")\n",
    "print(\"Damping ratios from modal decoupling\")\n",
    "pprint_array(np.diag(damping_ratios))\n"
   ]
  },
  {
   "cell_type": "markdown",
   "metadata": {},
   "source": [
    "### Time domain simulation"
   ]
  },
  {
   "cell_type": "code",
   "execution_count": 15,
   "metadata": {},
   "outputs": [
    {
     "name": "stderr",
     "output_type": "stream",
     "text": [
      "[pybeam.simulation] [\u001b[32mINFO\u001b[0m] Simulating with linear acceleration\n",
      "[pybeam.simulation] [\u001b[32mINFO\u001b[0m] Simulating 2 DOF system.\n",
      "[pybeam.simulation] [\u001b[32mINFO\u001b[0m] Simulating from time 0.0 to 100.0 and time step size 0.0001 (1000001 samples).\n"
     ]
    }
   ],
   "source": [
    "import numpy as np\n",
    "from pybeam.simulation import simulate\n",
    "\n",
    "# Number of DOF\n",
    "n_dof = stiffness.shape[0]\n",
    "\n",
    "# Time step size\n",
    "dt = 0.0001\n",
    "\n",
    "# End time\n",
    "t_end = 100\n",
    "# Time steps\n",
    "time = np.arange(start=0, stop=t_end + dt, step=dt)\n",
    "\n",
    "# Loading\n",
    "loads = np.zeros((n_dof, len(time)))\n",
    "\n",
    "# Initial conditions\n",
    "x_0 = np.zeros((n_dof,))\n",
    "x_0[0] = 10.25\n",
    "x_0[1] = -10.4\n",
    "v_0 = np.zeros((n_dof,))\n",
    "# v_0[0] = -1\n",
    "\n",
    "# Integration parameter\n",
    "beta = 1 / 6\n",
    "\n",
    "x, v, a = simulate(\n",
    "    stiffness=stiffness,\n",
    "    mass=mass,\n",
    "    damping=damping,\n",
    "    initial_disp=x_0,\n",
    "    initial_vel=v_0,\n",
    "    loads=loads,\n",
    "    time=time,\n",
    "    beta=beta,\n",
    "    gamma=1 / 2,  # Don't change this unless you know what you're doing\n",
    ")"
   ]
  },
  {
   "cell_type": "markdown",
   "metadata": {},
   "source": [
    "### Time response plot"
   ]
  },
  {
   "cell_type": "code",
   "execution_count": 13,
   "metadata": {},
   "outputs": [],
   "source": [
    "import matplotlib.pyplot as plt\n",
    "from pybeam.plotting import set_style\n",
    "set_style()\n",
    "%matplotlib qt5\n",
    "\n",
    "plt.figure()\n",
    "ax = plt.gca()\n",
    "\n",
    "# Adjust the look of the plot\n",
    "ax.set_xlabel(\"Time\")\n",
    "ax.set_ylabel(\"Displacement\")\n",
    "ax.set_xlim(0, time[-1])\n",
    "\n",
    "ax.plot(time, x[0, :], color=\"white\", linestyle=\"-\")\n",
    "ax.plot(time, x[1, :], color=\"red\", linestyle=\"-\")\n",
    "plt.show()"
   ]
  },
  {
   "cell_type": "code",
   "execution_count": 16,
   "metadata": {},
   "outputs": [
    {
     "data": {
      "text/plain": [
       "[<matplotlib.axis.XTick at 0x7f4982153490>,\n",
       " <matplotlib.axis.XTick at 0x7f4982150f10>]"
      ]
     },
     "execution_count": 16,
     "metadata": {},
     "output_type": "execute_result"
    }
   ],
   "source": [
    "from pybeam.plotting import plot_fft, set_style\n",
    "import matplotlib.pyplot as plt\n",
    "set_style()\n",
    "%matplotlib qt5\n",
    "\n",
    "plot_fft(x[0, :], time, abs_vals=True)\n",
    "\n",
    "ax = plt.gca()\n",
    "\n",
    "# Plot eigenfrequency indicators\n",
    "for freq in eigenfrequencies:\n",
    "    freq_in_hz = freq / (2 * np.pi)\n",
    "    ax.axline((freq_in_hz, 0), ((freq_in_hz, 1)), linestyle=\"--\", color=\"red\")\n",
    "\n",
    "# ticks = list(plt.xticks()[0]) + list(eigenfrequencies / (2 * np.pi))\n",
    "ticks = list(eigenfrequencies / (2 * np.pi))\n",
    "# ax.set_xscale(\"linear\")\n",
    "ax.set_xticks(ticks, [f\"{val}\" for val in ticks])\n"
   ]
  },
  {
   "cell_type": "markdown",
   "metadata": {},
   "source": [
    "### Phase angle plot"
   ]
  },
  {
   "cell_type": "code",
   "execution_count": 26,
   "metadata": {},
   "outputs": [],
   "source": [
    "fft = np.fft.fft(x[0, :])\n",
    "phase = np.rad2deg(np.angle(fft))\n",
    "n_2 = int(np.floor(len(time) / 2))\n",
    "freqs = np.fft.fftfreq(len(time), dt)[0:n_2]\n",
    "\n",
    "plt.figure()\n",
    "ax = plt.gca()\n",
    "ax.plot(freqs, phase[0:n_2])\n",
    "ax.set_xlabel(\"Frequency\")\n",
    "ax.set_ylabel(\"Angle\")\n",
    "ax.set_xscale(\"log\")\n",
    "\n",
    "# Plot eigenfrequency indicators\n",
    "for freq in eigenfrequencies:\n",
    "    freq_in_hz = freq / (2 * np.pi)\n",
    "    ax.axline((freq_in_hz, 0), ((freq_in_hz, 1)), linestyle=\"--\", color=\"red\")\n"
   ]
  }
 ],
 "metadata": {
  "kernelspec": {
   "display_name": "Python 3",
   "language": "python",
   "name": "python3"
  },
  "language_info": {
   "codemirror_mode": {
    "name": "ipython",
    "version": 3
   },
   "file_extension": ".py",
   "mimetype": "text/x-python",
   "name": "python",
   "nbconvert_exporter": "python",
   "pygments_lexer": "ipython3",
   "version": "3.11.5"
  }
 },
 "nbformat": 4,
 "nbformat_minor": 2
}
